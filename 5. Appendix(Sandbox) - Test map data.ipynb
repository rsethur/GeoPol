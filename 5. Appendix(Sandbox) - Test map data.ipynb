{
 "cells": [
  {
   "cell_type": "code",
   "execution_count": 11,
   "metadata": {
    "collapsed": false
   },
   "outputs": [
    {
     "name": "stdout",
     "output_type": "stream",
     "text": [
      "[{u'data': [{u'country': u'BFA', u'eventCount': 10000},\n",
      "            {u'country': u'COD', u'eventCount': 300},\n",
      "            {u'country': u'USA', u'eventCount': 50}],\n",
      "  u'timePeriod': u'Jan2015'},\n",
      " {u'data': [{u'country': u'BFA', u'eventCount': 10},\n",
      "            {u'country': u'COD', u'eventCount': 300},\n",
      "            {u'country': u'USA', u'eventCount': 500}],\n",
      "  u'timePeriod': u'Feb2015'},\n",
      " {u'data': [{u'country': u'BFA', u'eventCount': 1000},\n",
      "            {u'country': u'COD', u'eventCount': 30},\n",
      "            {u'country': u'USA', u'eventCount': 800}],\n",
      "  u'timePeriod': u'Mar2015'},\n",
      " {u'data': [{u'country': u'IND', u'eventCount': 5000},\n",
      "            {u'country': u'IRL', u'eventCount': 50},\n",
      "            {u'country': u'ITA', u'eventCount': 400}],\n",
      "  u'timePeriod': u'Apr2015'},\n",
      " {u'data': [{u'country': u'USA', u'eventCount': 1000},\n",
      "            {u'country': u'IRL', u'eventCount': 50},\n",
      "            {u'country': u'ITA', u'eventCount': 400}],\n",
      "  u'timePeriod': u'May2015'},\n",
      " {u'data': [{u'country': u'BFA', u'eventCount': 10},\n",
      "            {u'country': u'COD', u'eventCount': 300},\n",
      "            {u'country': u'USA', u'eventCount': 500}],\n",
      "  u'timePeriod': u'Feb2016'}]\n"
     ]
    }
   ],
   "source": [
    "import json\n",
    "from pprint import pprint\n",
    "\n",
    "with open(\"test.json\") as json_file:\n",
    "    json_data = json.load(json_file)\n",
    "    pprint(json_data)"
   ]
  },
  {
   "cell_type": "code",
   "execution_count": 16,
   "metadata": {
    "collapsed": false
   },
   "outputs": [
    {
     "data": {
      "text/plain": [
       "{u'country': u'BFA', u'eventCount': 10000}"
      ]
     },
     "execution_count": 16,
     "metadata": {},
     "output_type": "execute_result"
    }
   ],
   "source": [
    "json_data[0][\"data\"][0]"
   ]
  },
  {
   "cell_type": "code",
   "execution_count": 24,
   "metadata": {
    "collapsed": false
   },
   "outputs": [
    {
     "data": {
      "text/html": [
       "<iframe src=\"SliderTest.html\" width=\"1000\" height=\"700\">\n",
       "</iframe>"
      ],
      "text/plain": [
       "<IPython.core.display.HTML object>"
      ]
     },
     "metadata": {},
     "output_type": "display_data"
    }
   ],
   "source": [
    "%%HTML\n",
    "<iframe src=\"SliderTest.html\" width=\"1000\" height=\"700\">\n",
    "</iframe>"
   ]
  },
  {
   "cell_type": "code",
   "execution_count": null,
   "metadata": {
    "collapsed": true
   },
   "outputs": [],
   "source": [
    "#from IPython.display import HTML\n",
    "#HTML(filename='SliderTest.html')"
   ]
  }
 ],
 "metadata": {
  "kernelspec": {
   "display_name": "Python 2",
   "language": "python",
   "name": "python2"
  },
  "language_info": {
   "codemirror_mode": {
    "name": "ipython",
    "version": 2
   },
   "file_extension": ".py",
   "mimetype": "text/x-python",
   "name": "python",
   "nbconvert_exporter": "python",
   "pygments_lexer": "ipython2",
   "version": "2.7.11"
  }
 },
 "nbformat": 4,
 "nbformat_minor": 0
}
