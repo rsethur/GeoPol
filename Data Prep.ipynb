{
 "cells": [
  {
   "cell_type": "code",
   "execution_count": 1,
   "metadata": {
    "collapsed": true
   },
   "outputs": [],
   "source": [
    "%matplotlib inline\n",
    "import numpy as np\n",
    "import seaborn as sns\n",
    "import matplotlib.pyplot as plt\n",
    "from pyspark.sql import SQLContext\n",
    "from datetime import *\n",
    "from dateutil.parser import parse"
   ]
  },
  {
   "cell_type": "code",
   "execution_count": 2,
   "metadata": {
    "collapsed": false
   },
   "outputs": [
    {
     "data": {
      "text/plain": [
       "<pyspark.context.SparkContext at 0x7fd375faedd0>"
      ]
     },
     "execution_count": 2,
     "metadata": {},
     "output_type": "execute_result"
    }
   ],
   "source": [
    "sc"
   ]
  },
  {
   "cell_type": "code",
   "execution_count": 83,
   "metadata": {
    "collapsed": false
   },
   "outputs": [],
   "source": [
    "\"\"\"\n",
    "SqlDate: 1\n",
    "Date, Month: need to compute\n",
    "Year: 3\n",
    "\n",
    "IsRootEvent\t25\n",
    "EventCode\t26\n",
    "EventBaseCode\t27\n",
    "EventRootCode\t28\n",
    "QuadClass\t29\n",
    "GoldsteinScale\t30\n",
    "NumArticles\t33\n",
    "AvgTone\t34\n",
    "\n",
    "\n",
    "ActionGeo_CountryCode 51\n",
    "\"\"\"\n",
    "def parseRec(strRecord):\n",
    "    \n",
    "    if strRecord is None:\n",
    "        return None\n",
    "    \n",
    "    try:\n",
    "        rec = strRecord.split('\\t')\n",
    "        \n",
    "        if len(rec)<57:\n",
    "            return None\n",
    "        \n",
    "        globalEventId = int(rec[0])\n",
    "        \n",
    "        isRootEvent = rec[25]        \n",
    "        if (isRootEvent is None) or (int(isRootEvent) == 0):\n",
    "            return None\n",
    "\n",
    "        sqlDate = rec[1]\n",
    "        if (sqlDate is None or len(sqlDate)==0):\n",
    "            return None        \n",
    "        eventDate = parse(sqlDate).date()\n",
    "        eventMonth = eventDate.month\n",
    "        \n",
    "        if (rec[3] is None or len(rec[3])==0):\n",
    "            return None\n",
    "        eventYear= int(rec[3])\n",
    "        \n",
    "        if (rec[26] is None or len(rec[26])==0):\n",
    "            return None\n",
    "        eventCode= int(rec[26])\n",
    "        \n",
    "        if (rec[27] is None or len(rec[27])==0):\n",
    "            return None\n",
    "        eventBaseCode= int(rec[27])        \n",
    "        \n",
    "        if (rec[28] is None or len(rec[28])==0):\n",
    "            return None\n",
    "        eventRootCode= int(rec[28])  \n",
    "                \n",
    "        if (rec[29] is None or len(rec[29])==0):\n",
    "            return None\n",
    "        quadClass= int(rec[29])          \n",
    "         \n",
    "        if (rec[30] is None or len(rec[30])==0):\n",
    "            return None\n",
    "        goldsteinScale= float(rec[30])  \n",
    "         \n",
    "        if (rec[33] is None or len(rec[33])==0):\n",
    "            return None\n",
    "        numArticles= int(rec[33])\n",
    "         \n",
    "        if (rec[34] is None or len(rec[34])==0):\n",
    "            return None\n",
    "        avgTone= float(rec[34])\n",
    "        \n",
    "        if (rec[51] is None or len(rec[51])==0):\n",
    "            return None\n",
    "        actionGeoCountryCode = rec[51]\n",
    "        \n",
    "        return (globalEventId, eventDate, eventMonth, eventYear, eventCode, eventBaseCode, eventRootCode, quadClass, goldsteinScale, numArticles, avgTone, actionGeoCountryCode)\n",
    "    \n",
    "    except:\n",
    "        return None\n",
    "    \n",
    "    \n",
    "\n",
    "parsedRdd = sc.textFile(\"s3://gdeltdata/data/*\").map(lambda x: parseRec(x)).filter(lambda x: x is not None)\n",
    "#yCabRDD = yCabRDD.map(lambda record: yCabParse(record))"
   ]
  },
  {
   "cell_type": "code",
   "execution_count": 84,
   "metadata": {
    "collapsed": false
   },
   "outputs": [
    {
     "data": {
      "text/plain": [
       "PythonRDD[45] at RDD at PythonRDD.scala:43"
      ]
     },
     "execution_count": 84,
     "metadata": {},
     "output_type": "execute_result"
    }
   ],
   "source": [
    "parsedRdd.cache()"
   ]
  },
  {
   "cell_type": "code",
   "execution_count": 85,
   "metadata": {
    "collapsed": false
   },
   "outputs": [
    {
     "name": "stdout",
     "output_type": "stream",
     "text": [
      "CPU times: user 244 ms, sys: 96 ms, total: 340 ms\n",
      "Wall time: 14min 5s\n"
     ]
    },
    {
     "data": {
      "text/plain": [
       "221411551"
      ]
     },
     "execution_count": 85,
     "metadata": {},
     "output_type": "execute_result"
    }
   ],
   "source": [
    "%time parsedRdd.count()"
   ]
  },
  {
   "cell_type": "code",
   "execution_count": 56,
   "metadata": {
    "collapsed": false
   },
   "outputs": [
    {
     "name": "stdout",
     "output_type": "stream",
     "text": [
      "CPU times: user 268 ms, sys: 76 ms, total: 344 ms\n",
      "Wall time: 13min 57s\n"
     ]
    },
    {
     "data": {
      "text/plain": [
       "228601011"
      ]
     },
     "execution_count": 56,
     "metadata": {},
     "output_type": "execute_result"
    }
   ],
   "source": [
    "%time parsedRdd.count()"
   ]
  },
  {
   "cell_type": "code",
   "execution_count": 86,
   "metadata": {
    "collapsed": false
   },
   "outputs": [],
   "source": [
    "#globalEventId, eventDate, eventMonth, eventYear, eventCode, eventBaseCode, eventRootCode, quadClass, goldsteinScale, \n",
    "#numArticles, avgTone, actionGeoCountryCode)\n",
    "def toCSVLine(record):   \n",
    "    return ','.join(str(d) for d in record)\n",
    "\n",
    "csvRDD = parsedRdd.map(toCSVLine)\n",
    "#csvRDD.repartition(7).saveAsTextFile('s3://gdeltdata/coredata')"
   ]
  },
  {
   "cell_type": "code",
   "execution_count": 89,
   "metadata": {
    "collapsed": true
   },
   "outputs": [],
   "source": [
    "csvRDD.repartition(7).saveAsTextFile('s3://gdeltdata/coredata')"
   ]
  },
  {
   "cell_type": "code",
   "execution_count": null,
   "metadata": {
    "collapsed": true
   },
   "outputs": [],
   "source": []
  }
 ],
 "metadata": {
  "kernelspec": {
   "display_name": "Python 2",
   "language": "python",
   "name": "python2"
  },
  "language_info": {
   "codemirror_mode": {
    "name": "ipython",
    "version": 2
   },
   "file_extension": ".py",
   "mimetype": "text/x-python",
   "name": "python",
   "nbconvert_exporter": "python",
   "pygments_lexer": "ipython2",
   "version": "2.7.11"
  }
 },
 "nbformat": 4,
 "nbformat_minor": 0
}
