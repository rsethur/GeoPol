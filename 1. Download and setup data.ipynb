{
 "cells": [
  {
   "cell_type": "markdown",
   "metadata": {},
   "source": [
    "# Download & Setup the data"
   ]
  },
  {
   "cell_type": "markdown",
   "metadata": {},
   "source": [
    "### Goal of this notebook: Download the large data set into S3 storage"
   ]
  },
  {
   "cell_type": "code",
   "execution_count": 1,
   "metadata": {
    "collapsed": false
   },
   "outputs": [],
   "source": [
    "%matplotlib inline\n",
    "import numpy as np\n",
    "import seaborn as sns\n",
    "import matplotlib.pyplot as plt\n",
    "from pyspark.sql import SQLContext"
   ]
  },
  {
   "cell_type": "code",
   "execution_count": 2,
   "metadata": {
    "collapsed": false
   },
   "outputs": [
    {
     "data": {
      "text/plain": [
       "<pyspark.context.SparkContext at 0x7fa5b35a1e50>"
      ]
     },
     "execution_count": 2,
     "metadata": {},
     "output_type": "execute_result"
    }
   ],
   "source": [
    "sc"
   ]
  },
  {
   "cell_type": "code",
   "execution_count": 3,
   "metadata": {
    "collapsed": false
   },
   "outputs": [
    {
     "data": {
      "text/plain": [
       "u'yarn-client'"
      ]
     },
     "execution_count": 3,
     "metadata": {},
     "output_type": "execute_result"
    }
   ],
   "source": [
    "sc.master"
   ]
  },
  {
   "cell_type": "code",
   "execution_count": 4,
   "metadata": {
    "collapsed": false
   },
   "outputs": [
    {
     "data": {
      "text/plain": [
       "10"
      ]
     },
     "execution_count": 4,
     "metadata": {},
     "output_type": "execute_result"
    }
   ],
   "source": [
    "#sanity test the cluster\n",
    "import sys\n",
    "rdd = sc.parallelize(xrange(10),10)\n",
    "aa = rdd.map(lambda x: sys.version)\n",
    "aa.cache()\n",
    "aa.count()"
   ]
  },
  {
   "cell_type": "code",
   "execution_count": 14,
   "metadata": {
    "collapsed": false
   },
   "outputs": [
    {
     "name": "stdout",
     "output_type": "stream",
     "text": [
      "make_bucket: s3://gdeltdata/\n",
      "make_bucket: s3://gdeltdata/data/\n"
     ]
    }
   ],
   "source": [
    "#Setup the S3 bucket for storing the nyc data\n",
    "!aws s3 mb s3://gdeltdata\n",
    "!aws s3 mb s3://gdeltdata/data"
   ]
  },
  {
   "cell_type": "code",
   "execution_count": 5,
   "metadata": {
    "collapsed": true
   },
   "outputs": [],
   "source": [
    "#Use the ephemerial/tmp space in EC2 node    \n",
    "!mkdir datafiles\n",
    "!sudo mount /dev/xvdb datafiles\n",
    "!mkdir datafiles/data"
   ]
  },
  {
   "cell_type": "code",
   "execution_count": 38,
   "metadata": {
    "collapsed": false
   },
   "outputs": [],
   "source": [
    "#20140430.export.CSV.zip\n",
    "\n",
    "#Setup the variables\n",
    "\n",
    "baseUrl = \"http://data.gdeltproject.org/events/\"\n",
    "\n",
    "#Availaiblity of data set by month & year\n",
    "yearMonthDict = {}\n",
    "\n",
    "\n",
    "#availablity for Yellow cab\n",
    "#yearMonthDict[2015] = range(1,13)\n",
    "yearMonthDict[2014] = range(1,13)\n",
    "yearMonthDict[2013] = range(4,13) #daily data available only from April 2014\n",
    "\n",
    "#file name list\n",
    "fileUrls = []\n",
    "filenames = []\n",
    "for year, monthList in yearMonthDict.iteritems():\n",
    "    yearStr = str(year)\n",
    "    for month in monthList:\n",
    "        monthStr = str(month)\n",
    "        if len(monthStr) == 1:\n",
    "            monthStr = \"0\"+monthStr\n",
    "        for day in range(1,32):\n",
    "            dayStr = str(day)\n",
    "            if len(dayStr) == 1:\n",
    "                dayStr = \"0\"+dayStr\n",
    "            url = baseUrl+yearStr+monthStr+dayStr+\".export.CSV.zip\"\n",
    "            fileUrls.append(url)\n",
    "            #filenames.append(yCabFNPrefix+yearStr+'-'+monthStr+\".csv\")"
   ]
  },
  {
   "cell_type": "code",
   "execution_count": 6,
   "metadata": {
    "collapsed": true
   },
   "outputs": [],
   "source": [
    "#file names from 2013 & backwards\n",
    "baseUrl = \"http://data.gdeltproject.org/events/\"\n",
    "\n",
    "#Availaiblity of data set by month & year\n",
    "yearMonthDict = {}\n",
    "\n",
    "yearMonthDict[2013] = range(1,4) #daily data available only from April 2014\n",
    "yearMonthDict[2012] = range(1,13)\n",
    "yearMonthDict[2011] = range(1,13)\n",
    "yearMonthDict[2010] = range(1,13)\n",
    "yearMonthDict[2009] = range(1,13)\n",
    "yearMonthDict[2008] = range(1,13)\n",
    "yearMonthDict[2007] = range(1,13)\n",
    "yearMonthDict[2006] = range(1,13)\n",
    "\n",
    "#file name list\n",
    "fileUrls = []\n",
    "filenames = []\n",
    "for year, monthList in yearMonthDict.iteritems():\n",
    "    yearStr = str(year)\n",
    "    for month in monthList:\n",
    "        monthStr = str(month)\n",
    "        if len(monthStr) == 1:\n",
    "            monthStr = \"0\"+monthStr        \n",
    "        url = baseUrl+yearStr+monthStr+\".zip\"\n",
    "        fileUrls.append(url)        "
   ]
  },
  {
   "cell_type": "code",
   "execution_count": 12,
   "metadata": {
    "collapsed": false
   },
   "outputs": [],
   "source": [
    "#file names for 2005 and backwards\n",
    "baseUrl = \"http://data.gdeltproject.org/events/\"\n",
    "\n",
    "#Availaiblity of data set by month & year\n",
    "years = range(1979, 2006)\n",
    "\n",
    "#file name list\n",
    "fileUrls = []\n",
    "for year in years:\n",
    "    yearStr = str(year)\n",
    "    url = baseUrl+yearStr+\".zip\"\n",
    "    fileUrls.append(url)     "
   ]
  },
  {
   "cell_type": "code",
   "execution_count": null,
   "metadata": {
    "collapsed": true
   },
   "outputs": [],
   "source": [
    "for url in fileUrls:\n",
    "    !wget $url -P datafiles/data --trust-server-names"
   ]
  },
  {
   "cell_type": "code",
   "execution_count": null,
   "metadata": {
    "collapsed": true
   },
   "outputs": [],
   "source": [
    "!unzip datafiles/data/\"*.zip\" -d datafiles/data/\n",
    "!rm datafiles/data/*.zip"
   ]
  },
  {
   "cell_type": "code",
   "execution_count": null,
   "metadata": {
    "collapsed": true
   },
   "outputs": [],
   "source": [
    "#local file system storage utilization\n",
    "!du -mh datafiles/data"
   ]
  },
  {
   "cell_type": "code",
   "execution_count": null,
   "metadata": {
    "collapsed": true
   },
   "outputs": [],
   "source": [
    "#add to s3\n",
    "!aws s3 sync datafiles/data/ s3://gdeltdata/data"
   ]
  },
  {
   "cell_type": "code",
   "execution_count": 37,
   "metadata": {
    "collapsed": true
   },
   "outputs": [],
   "source": [
    "#optionally remove files from local system\n",
    "#!rm datafiles/data/*"
   ]
  },
  {
   "cell_type": "code",
   "execution_count": 15,
   "metadata": {
    "collapsed": false
   },
   "outputs": [
    {
     "name": "stdout",
     "output_type": "stream",
     "text": [
      "113290478675 1115 objects s3://gdeltdata/data\r\n"
     ]
    }
   ],
   "source": [
    "#!pip install s3cmd\n",
    "!s3cmd du s3://gdeltdata/data"
   ]
  },
  {
   "cell_type": "code",
   "execution_count": 16,
   "metadata": {
    "collapsed": false
   },
   "outputs": [
    {
     "name": "stdout",
     "output_type": "stream",
     "text": [
      "CPU times: user 208 ms, sys: 184 ms, total: 392 ms\n",
      "Wall time: 5min 21s\n"
     ]
    },
    {
     "data": {
      "text/plain": [
       "354518932"
      ]
     },
     "execution_count": 16,
     "metadata": {},
     "output_type": "execute_result"
    }
   ],
   "source": [
    "#sanity test\n",
    "rawEvents = sc.textFile('s3://gdeltdata/data/*').map(lambda x: x.split('\\t'))\n",
    "%time rawEvents.count()\n",
    "#%time rawEvents.take(2)"
   ]
  },
  {
   "cell_type": "code",
   "execution_count": null,
   "metadata": {
    "collapsed": true
   },
   "outputs": [],
   "source": []
  }
 ],
 "metadata": {
  "kernelspec": {
   "display_name": "Python 2",
   "language": "python",
   "name": "python2"
  },
  "language_info": {
   "codemirror_mode": {
    "name": "ipython",
    "version": 2
   },
   "file_extension": ".py",
   "mimetype": "text/x-python",
   "name": "python",
   "nbconvert_exporter": "python",
   "pygments_lexer": "ipython2",
   "version": "2.7.11"
  }
 },
 "nbformat": 4,
 "nbformat_minor": 0
}
